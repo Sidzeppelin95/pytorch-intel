{
  "cells": [
    {
      "cell_type": "markdown",
      "metadata": {
        "id": "view-in-github",
        "colab_type": "text"
      },
      "source": [
        "<a href=\"https://colab.research.google.com/github/Sidzeppelin95/pytorch-intel/blob/main/_downloads/3da86ccbc06c04d70b57f958ff8983b6/intel_extension_for_pytorch.ipynb\" target=\"_parent\"><img src=\"https://colab.research.google.com/assets/colab-badge.svg\" alt=\"Open In Colab\"/></a>"
      ]
    },
    {
      "cell_type": "code",
      "execution_count": 1,
      "metadata": {
        "id": "6vxWOQesCBT8"
      },
      "outputs": [],
      "source": [
        "%matplotlib inline"
      ]
    },
    {
      "cell_type": "markdown",
      "metadata": {
        "id": "mx-WxKLmCBT-"
      },
      "source": [
        "\n",
        "Intel® Extension for PyTorch*\n",
        "*******************************\n",
        "**Author**: `Jing Xu <https://github.com/jingxu10>`_\n",
        "\n",
        "Intel Extension for PyTorch* extends PyTorch with optimizations for extra\n",
        "performance boost on Intel hardware. Most of the optimizations will be\n",
        "included in stock PyTorch releases eventually, and the intention of the\n",
        "extension is to deliver up to date features and optimizations for PyTorch\n",
        "on Intel hardware, examples include AVX-512 Vector Neural Network\n",
        "Instructions (AVX512 VNNI) and Intel® Advanced Matrix Extensions (Intel® AMX).\n",
        "\n",
        "Intel® Extension for PyTorch* has been released as an open–source project\n",
        "at `Github <https://github.com/intel/intel-extension-for-pytorch>`_.\n",
        "\n",
        "Features\n",
        "--------\n",
        "\n",
        "* Ease-of-use Python API: Intel® Extension for PyTorch* provides simple\n",
        "  frontend Python APIs and utilities for users to get performance optimizations\n",
        "  such as graph optimization and operator optimization with minor code changes.\n",
        "  Typically, only 2 to 3 clauses are required to be added to the original code.\n",
        "* Channels Last: Comparing to the default NCHW memory format, channels_last\n",
        "  (NHWC) memory format could further accelerate convolutional neural networks.\n",
        "  In Intel® Extension for PyTorch*, NHWC memory format has been enabled for\n",
        "  most key CPU operators, though not all of them have been merged to PyTorch\n",
        "  master branch yet. They are expected to be fully landed in PyTorch upstream\n",
        "  soon.\n",
        "* Auto Mixed Precision (AMP): Low precision data type BFloat16 has been\n",
        "  natively supported on the 3rd Generation Xeon scalable Servers (aka Cooper\n",
        "  Lake) with AVX512 instruction set and will be supported on the next\n",
        "  generation of Intel® Xeon® Scalable Processors with Intel® Advanced Matrix\n",
        "  Extensions (Intel® AMX) instruction set with further boosted performance. The\n",
        "  support of Auto Mixed Precision (AMP) with BFloat16 for CPU and BFloat16\n",
        "  optimization of operators have been massively enabled in Intel® Extension\n",
        "  for PyTorch*, and partially upstreamed to PyTorch master branch. Most of\n",
        "  these optimizations will be landed in PyTorch master through PRs that are\n",
        "  being submitted and reviewed.\n",
        "* Graph Optimization: To optimize performance further with torchscript,\n",
        "  Intel® Extension for PyTorch* supports fusion of frequently used operator\n",
        "  patterns, like Conv2D+ReLU, Linear+ReLU, etc. The benefit of the fusions are\n",
        "  delivered to users in a transparent fashion. Detailed fusion patterns\n",
        "  supported can be found `here <https://github.com/intel/intel-extension-for-pytorch>`_.\n",
        "  The graph optimization will be up-streamed to PyTorch with the introduction\n",
        "  of oneDNN Graph API.\n",
        "* Operator Optimization: Intel® Extension for PyTorch* also optimizes\n",
        "  operators and implements several customized operators for performance. A few\n",
        "  ATen operators are replaced by their optimized counterparts in Intel®\n",
        "  Extension for PyTorch* via ATen registration mechanism. Moreover, some\n",
        "  customized operators are implemented for several popular topologies. For\n",
        "  instance, ROIAlign and NMS are defined in Mask R-CNN. To improve performance\n",
        "  of these topologies, Intel® Extension for PyTorch* also optimized these\n",
        "  customized operators.\n",
        "\n"
      ]
    },
    {
      "cell_type": "markdown",
      "metadata": {
        "id": "diyuZNJJCBUB"
      },
      "source": [
        "Getting Started\n",
        "---------------\n",
        "\n"
      ]
    },
    {
      "cell_type": "markdown",
      "metadata": {
        "id": "6hJz6_guCBUC"
      },
      "source": [
        "Minor code changes are required for users to get start with Intel® Extension\n",
        "for PyTorch*. Both PyTorch imperative mode and TorchScript mode are\n",
        "supported. This section introduces usage of Intel® Extension for PyTorch* API\n",
        "functions for both imperative mode and TorchScript mode, covering data type\n",
        "Float32 and BFloat16. C++ usage will also be introduced at the end.\n",
        "\n"
      ]
    },
    {
      "cell_type": "markdown",
      "metadata": {
        "id": "4F8OjK1GCBUD"
      },
      "source": [
        "You just need to import Intel® Extension for PyTorch* package and apply its\n",
        "optimize function against the model object. If it is a training workload, the\n",
        "optimize function also needs to be applied against the optimizer object.\n",
        "\n"
      ]
    },
    {
      "cell_type": "markdown",
      "metadata": {
        "id": "wdPQ4VXRCBUF"
      },
      "source": [
        "For training and inference with BFloat16 data type, torch.cpu.amp has been\n",
        "enabled in PyTorch upstream to support mixed precision with convenience, and\n",
        "BFloat16 datatype has been enabled excessively for CPU operators in PyTorch\n",
        "upstream and Intel® Extension for PyTorch*. Running torch.cpu.amp will match\n",
        "each operator to its appropriate datatype and returns the best possible\n",
        "performance.\n",
        "\n"
      ]
    },
    {
      "cell_type": "markdown",
      "metadata": {
        "id": "2lhGQOvQCBUF"
      },
      "source": [
        "The code changes that are required for Intel® Extension for PyTorch* are\n",
        "highlighted with comments in a line above.\n",
        "\n"
      ]
    },
    {
      "cell_type": "markdown",
      "metadata": {
        "id": "5fg7OpoKCBUG"
      },
      "source": [
        "Training\n",
        "~~~~~~~~\n",
        "\n"
      ]
    },
    {
      "cell_type": "markdown",
      "metadata": {
        "id": "djvzCz-7CBUJ"
      },
      "source": [
        "Float32\n",
        "^^^^^^^\n",
        "\n"
      ]
    },
    {
      "cell_type": "code",
      "execution_count": 10,
      "metadata": {
        "colab": {
          "base_uri": "https://localhost:8080/",
          "height": 429
        },
        "id": "KxUq3HOHCBUL",
        "outputId": "6702da92-4d59-4c16-e7d2-1c7b03eaddd5"
      },
      "outputs": [
        {
          "output_type": "error",
          "ename": "AssertionError",
          "evalue": "ignored",
          "traceback": [
            "\u001b[0;31m---------------------------------------------------------------------------\u001b[0m",
            "\u001b[0;31mAssertionError\u001b[0m                            Traceback (most recent call last)",
            "\u001b[0;32m<ipython-input-10-93c36d4f22b1>\u001b[0m in \u001b[0;36m<cell line: 18>\u001b[0;34m()\u001b[0m\n\u001b[1;32m     16\u001b[0m \u001b[0mmodel\u001b[0m \u001b[0;34m=\u001b[0m \u001b[0mModel\u001b[0m\u001b[0;34m(\u001b[0m\u001b[0;34m)\u001b[0m\u001b[0;34m\u001b[0m\u001b[0;34m\u001b[0m\u001b[0m\n\u001b[1;32m     17\u001b[0m \u001b[0mPATH\u001b[0m \u001b[0;34m=\u001b[0m \u001b[0;34m\"model.pth\"\u001b[0m\u001b[0;34m\u001b[0m\u001b[0;34m\u001b[0m\u001b[0m\n\u001b[0;32m---> 18\u001b[0;31m \u001b[0mmodel\u001b[0m\u001b[0;34m,\u001b[0m \u001b[0moptimizer\u001b[0m \u001b[0;34m=\u001b[0m \u001b[0mipex\u001b[0m\u001b[0;34m.\u001b[0m\u001b[0moptimize\u001b[0m\u001b[0;34m(\u001b[0m\u001b[0mmodel\u001b[0m\u001b[0;34m,\u001b[0m \u001b[0moptimizer\u001b[0m\u001b[0;34m)\u001b[0m\u001b[0;34m\u001b[0m\u001b[0;34m\u001b[0m\u001b[0m\n\u001b[0m\u001b[1;32m     19\u001b[0m \u001b[0mmodel\u001b[0m\u001b[0;34m.\u001b[0m\u001b[0mset_state_dict\u001b[0m\u001b[0;34m(\u001b[0m\u001b[0mtorch\u001b[0m\u001b[0;34m.\u001b[0m\u001b[0mload\u001b[0m\u001b[0;34m(\u001b[0m\u001b[0mPATH\u001b[0m\u001b[0;34m)\u001b[0m\u001b[0;34m)\u001b[0m\u001b[0;34m\u001b[0m\u001b[0;34m\u001b[0m\u001b[0m\n\u001b[1;32m     20\u001b[0m \u001b[0moptimizer\u001b[0m\u001b[0;34m.\u001b[0m\u001b[0mset_state_dict\u001b[0m\u001b[0;34m(\u001b[0m\u001b[0mtorch\u001b[0m\u001b[0;34m.\u001b[0m\u001b[0mload\u001b[0m\u001b[0;34m(\u001b[0m\u001b[0mPATH\u001b[0m\u001b[0;34m)\u001b[0m\u001b[0;34m)\u001b[0m\u001b[0;34m\u001b[0m\u001b[0;34m\u001b[0m\u001b[0m\n",
            "\u001b[0;32m/usr/local/lib/python3.10/dist-packages/intel_extension_for_pytorch/frontend.py\u001b[0m in \u001b[0;36moptimize\u001b[0;34m(model, dtype, optimizer, level, inplace, conv_bn_folding, linear_bn_folding, weights_prepack, replace_dropout_with_identity, optimize_lstm, split_master_weight_for_bf16, fuse_update_step, auto_kernel_selection, sample_input, graph_mode, concat_linear)\u001b[0m\n\u001b[1;32m    335\u001b[0m \u001b[0;34m\u001b[0m\u001b[0m\n\u001b[1;32m    336\u001b[0m     \u001b[0;32mif\u001b[0m \u001b[0mmodel\u001b[0m\u001b[0;34m.\u001b[0m\u001b[0mtraining\u001b[0m\u001b[0;34m:\u001b[0m\u001b[0;34m\u001b[0m\u001b[0;34m\u001b[0m\u001b[0m\n\u001b[0;32m--> 337\u001b[0;31m         \u001b[0;32massert\u001b[0m \u001b[0moptimizer\u001b[0m \u001b[0;32mis\u001b[0m \u001b[0;32mnot\u001b[0m \u001b[0;32mNone\u001b[0m\u001b[0;34m,\u001b[0m \u001b[0;34m\"The optimizer should be given for training mode\"\u001b[0m\u001b[0;34m\u001b[0m\u001b[0;34m\u001b[0m\u001b[0m\n\u001b[0m\u001b[1;32m    338\u001b[0m     \u001b[0;32melse\u001b[0m\u001b[0;34m:\u001b[0m\u001b[0;34m\u001b[0m\u001b[0;34m\u001b[0m\u001b[0m\n\u001b[1;32m    339\u001b[0m         \u001b[0;32massert\u001b[0m \u001b[0moptimizer\u001b[0m \u001b[0;32mis\u001b[0m \u001b[0;32mNone\u001b[0m\u001b[0;34m,\u001b[0m \u001b[0;34m\"The optimizer should not be given for inference mode\"\u001b[0m\u001b[0;34m\u001b[0m\u001b[0;34m\u001b[0m\u001b[0m\n",
            "\u001b[0;31mAssertionError\u001b[0m: The optimizer should be given for training mode"
          ]
        }
      ],
      "source": [
        "import torch\n",
        "import torch.nn as nn\n",
        "# Import intel_extension_for_pytorch\n",
        "import intel_extension_for_pytorch as ipex\n",
        "\n",
        "class Model(nn.Module):\n",
        "    def __init__(self):\n",
        "        super(Model, self).__init__()\n",
        "        self.linear = nn.Linear(4, 5)\n",
        "\n",
        "    def forward(self, input):\n",
        "        return self.linear(input)\n",
        "    def set_state_dict(self, state_dict):\n",
        "        self.linear.set_state_dict(state_dict['linear'])\n",
        "optimizer = torch.optim.SGD(model.parameters(), lr=0.01)\n",
        "model = Model()\n",
        "PATH = \"model.pth\"\n",
        "model, optimizer = ipex.optimize(model, optimizer)\n",
        "model.set_state_dict(torch.load(PATH))\n",
        "optimizer.set_state_dict(torch.load(PATH))\n",
        "# Invoke optimize function against the model object and optimizer object\n",
        "\n",
        "\n",
        "for images, label in train_loader():\n",
        "    # Setting memory_format to torch.channels_last could improve performance with 4D input data. This is optional.\n",
        "    images = images.to(memory_format=torch.channels_last)\n",
        "    loss = criterion(model(images), label)\n",
        "    loss.backward()\n",
        "    optimizer.step()\n",
        "torch.save(model.state_dict(), PATH)\n",
        "torch.save(optimizer.state_dict(), PATH)"
      ]
    },
    {
      "cell_type": "code",
      "source": [
        "pip install intel_extension_for_pytorch"
      ],
      "metadata": {
        "colab": {
          "base_uri": "https://localhost:8080/"
        },
        "id": "0g9MuSCrCpXt",
        "outputId": "581f700e-c0ae-4e9d-863e-23f34d2e84d8"
      },
      "execution_count": 4,
      "outputs": [
        {
          "output_type": "stream",
          "name": "stdout",
          "text": [
            "Collecting intel_extension_for_pytorch\n",
            "  Downloading intel_extension_for_pytorch-2.1.100-cp310-cp310-manylinux2014_x86_64.whl (51.2 MB)\n",
            "\u001b[2K     \u001b[90m━━━━━━━━━━━━━━━━━━━━━━━━━━━━━━━━━━━━━━━━\u001b[0m \u001b[32m51.2/51.2 MB\u001b[0m \u001b[31m12.8 MB/s\u001b[0m eta \u001b[36m0:00:00\u001b[0m\n",
            "\u001b[?25hRequirement already satisfied: psutil in /usr/local/lib/python3.10/dist-packages (from intel_extension_for_pytorch) (5.9.5)\n",
            "Requirement already satisfied: numpy in /usr/local/lib/python3.10/dist-packages (from intel_extension_for_pytorch) (1.23.5)\n",
            "Requirement already satisfied: packaging in /usr/local/lib/python3.10/dist-packages (from intel_extension_for_pytorch) (23.2)\n",
            "Installing collected packages: intel_extension_for_pytorch\n",
            "Successfully installed intel_extension_for_pytorch-2.1.100\n"
          ]
        }
      ]
    },
    {
      "cell_type": "markdown",
      "metadata": {
        "id": "HOksJxd4CBUL"
      },
      "source": [
        "BFloat16\n",
        "^^^^^^^^\n",
        "\n"
      ]
    },
    {
      "cell_type": "code",
      "execution_count": null,
      "metadata": {
        "id": "PTjPMRgECBUN"
      },
      "outputs": [],
      "source": [
        "import torch\n",
        "import torch.nn as nn\n",
        "# Import intel_extension_for_pytorch\n",
        "import intel_extension_for_pytorch as ipex\n",
        "\n",
        "class Model(nn.Module):\n",
        "    def __init__(self):\n",
        "        super(Model, self).__init__()\n",
        "        self.linear = nn.Linear(4, 5)\n",
        "\n",
        "    def forward(self, input):\n",
        "        return self.linear(input)\n",
        "\n",
        "model = Model()\n",
        "model.set_state_dict(torch.load(PATH))\n",
        "optimizer.set_state_dict(torch.load(PATH))\n",
        "# Invoke optimize function against the model object and optimizer object with data type set to torch.bfloat16\n",
        "model, optimizer = ipex.optimize(model, optimizer, dtype=torch.bfloat16)\n",
        "\n",
        "for images, label in train_loader():\n",
        "    with torch.cpu.amp.autocast():\n",
        "        # Setting memory_format to torch.channels_last could improve performance with 4D input data. This is optional.\n",
        "        images = images.to(memory_format=torch.channels_last)\n",
        "        loss = criterion(model(images), label)\n",
        "    loss.backward()\n",
        "    optimizer.step()\n",
        "torch.save(model.state_dict(), PATH)\n",
        "torch.save(optimizer.state_dict(), PATH)"
      ]
    },
    {
      "cell_type": "markdown",
      "metadata": {
        "id": "mh0nAYhbCBUN"
      },
      "source": [
        "Inference - Imperative Mode\n",
        "~~~~~~~~~~~~~~~~~~~~~~~~~~~\n",
        "\n"
      ]
    },
    {
      "cell_type": "markdown",
      "metadata": {
        "id": "URqDtO4yCBUN"
      },
      "source": [
        "Float32\n",
        "\"\"\"\"\"\"\"\n",
        "\n"
      ]
    },
    {
      "cell_type": "code",
      "execution_count": null,
      "metadata": {
        "id": "AizXcQLhCBUO"
      },
      "outputs": [],
      "source": [
        "import torch\n",
        "import torch.nn as nn\n",
        "# Import intel_extension_for_pytorch\n",
        "import intel_extension_for_pytorch as ipex\n",
        "\n",
        "class Model(nn.Module):\n",
        "    def __init__(self):\n",
        "        super(Model, self).__init__()\n",
        "        self.linear = nn.Linear(4, 5)\n",
        "\n",
        "    def forward(self, input):\n",
        "        return self.linear(input)\n",
        "\n",
        "input = torch.randn(2, 4)\n",
        "model = Model()\n",
        "model.eval()\n",
        "# Invoke optimize function against the model object\n",
        "model = ipex.optimize(model, dtype=torch.float32)\n",
        "res = model(input)"
      ]
    },
    {
      "cell_type": "markdown",
      "metadata": {
        "id": "pCp4hSdnCBUO"
      },
      "source": [
        "BFloat16\n",
        "^^^^^^^^\n",
        "\n"
      ]
    },
    {
      "cell_type": "code",
      "execution_count": null,
      "metadata": {
        "id": "5TuTyfrsCBUP"
      },
      "outputs": [],
      "source": [
        "import torch\n",
        "import torch.nn as nn\n",
        "# Import intel_extension_for_pytorch\n",
        "import intel_extension_for_pytorch as ipex\n",
        "\n",
        "class Model(nn.Module):\n",
        "    def __init__(self):\n",
        "        super(Model, self).__init__()\n",
        "        self.linear = nn.Linear(4, 5)\n",
        "\n",
        "    def forward(self, input):\n",
        "        return self.linear(input)\n",
        "\n",
        "input = torch.randn(2, 4)\n",
        "model = Model()\n",
        "model.eval()\n",
        "# Invoke optimize function against the model object with data type set to torch.bfloat16\n",
        "model = ipex.optimize(model, dtype=torch.bfloat16)\n",
        "with torch.cpu.amp.autocast():\n",
        "    res = model(input)"
      ]
    },
    {
      "cell_type": "markdown",
      "metadata": {
        "id": "oZ7BivPECBUQ"
      },
      "source": [
        "Inference - TorchScript Mode\n",
        "~~~~~~~~~~~~~~~~~~~~~~~~~~~~\n",
        "\n"
      ]
    },
    {
      "cell_type": "markdown",
      "metadata": {
        "id": "sGBsyAd3CBUQ"
      },
      "source": [
        "TorchScript mode makes graph optimization possible, hence improves\n",
        "performance for some topologies. Intel® Extension for PyTorch* enables most\n",
        "commonly used operator pattern fusion, and users can get the performance\n",
        "benefit without additional code changes.\n",
        "\n"
      ]
    },
    {
      "cell_type": "markdown",
      "metadata": {
        "id": "XCOIzfIrCBUQ"
      },
      "source": [
        "Float32\n",
        "\"\"\"\"\"\"\"\n",
        "\n"
      ]
    },
    {
      "cell_type": "code",
      "execution_count": null,
      "metadata": {
        "id": "bSY_Pv6jCBUR"
      },
      "outputs": [],
      "source": [
        "import torch\n",
        "import torch.nn as nn\n",
        "# Import intel_extension_for_pytorch\n",
        "import intel_extension_for_pytorch as ipex\n",
        "\n",
        "# oneDNN graph fusion is enabled by default, uncomment the line below to disable it explicitly\n",
        "# ipex.enable_onednn_fusion(False)\n",
        "\n",
        "class Model(nn.Module):\n",
        "    def __init__(self):\n",
        "        super(Model, self).__init__()\n",
        "        self.linear = nn.Linear(4, 5)\n",
        "\n",
        "    def forward(self, input):\n",
        "        return self.linear(input)\n",
        "\n",
        "input = torch.randn(2, 4)\n",
        "model = Model()\n",
        "model.eval()\n",
        "# Invoke optimize function against the model object\n",
        "model = ipex.optimize(model, dtype=torch.float32)\n",
        "model = torch.jit.trace(model, torch.randn(2, 4))\n",
        "model = torch.jit.freeze(model)\n",
        "res = model(input)"
      ]
    },
    {
      "cell_type": "markdown",
      "metadata": {
        "id": "TQT_W65tCBUS"
      },
      "source": [
        "BFloat16\n",
        "^^^^^^^^\n",
        "\n"
      ]
    },
    {
      "cell_type": "code",
      "execution_count": null,
      "metadata": {
        "id": "dFJI_HsYCBUS"
      },
      "outputs": [],
      "source": [
        "import torch\n",
        "import torch.nn as nn\n",
        "# Import intel_extension_for_pytorch\n",
        "import intel_extension_for_pytorch as ipex\n",
        "\n",
        "# oneDNN graph fusion is enabled by default, uncomment the line below to disable it explicitly\n",
        "# ipex.enable_onednn_fusion(False)\n",
        "\n",
        "class Model(nn.Module):\n",
        "    def __init__(self):\n",
        "        super(Model, self).__init__()\n",
        "        self.linear = nn.Linear(4, 5)\n",
        "\n",
        "    def forward(self, input):\n",
        "        return self.linear(input)\n",
        "\n",
        "input = torch.randn(2, 4)\n",
        "model = Model()\n",
        "model.eval()\n",
        "# Invoke optimize function against the model with data type set to torch.bfloat16\n",
        "model = ipex.optimize(model, dtype=torch.bfloat16)\n",
        "with torch.cpu.amp.autocast():\n",
        "    model = torch.jit.trace(model, torch.randn(2, 4))\n",
        "    model = torch.jit.freeze(model)\n",
        "    res = model(input)"
      ]
    },
    {
      "cell_type": "markdown",
      "metadata": {
        "id": "hyj08orfCBUk"
      },
      "source": [
        "C++\n",
        "~~~\n",
        "\n"
      ]
    },
    {
      "cell_type": "markdown",
      "metadata": {
        "id": "VGZ01K1lCBUk"
      },
      "source": [
        "To work with libtorch, C++ library of PyTorch, Intel® Extension for PyTorch*\n",
        "provides its C++ dynamic library as well. The C++ library is supposed to handle\n",
        "inference workload only, such as service deployment. For regular development,\n",
        "please use Python interface. Comparing to usage of libtorch, no specific code\n",
        "changes are required, except for converting input data into channels last data\n",
        "format. Compilation follows the recommended methodology with CMake. Detailed\n",
        "instructions can be found in `PyTorch tutorial <https://pytorch.org/tutorials/advanced/cpp_export.html#depending-on-libtorch-and-building-the-application>`_.\n",
        "During compilation, Intel optimizations will be activated automatically\n",
        "once C++ dynamic library of Intel® Extension for PyTorch* is linked.\n",
        "\n"
      ]
    },
    {
      "cell_type": "markdown",
      "metadata": {
        "id": "x8qJMOTCCBUk"
      },
      "source": [
        "**example-app.cpp**\n",
        "\n"
      ]
    },
    {
      "cell_type": "code",
      "execution_count": null,
      "metadata": {
        "id": "tp6xX_ZgCBUl"
      },
      "outputs": [],
      "source": [
        "'''\n",
        "#include <torch/script.h>\n",
        "#include <iostream>\n",
        "#include <memory>\n",
        "\n",
        "int main(int argc, const char* argv[]) {\n",
        "    torch::jit::script::Module module;\n",
        "    try {\n",
        "        module = torch::jit::load(argv[1]);\n",
        "    }\n",
        "    catch (const c10::Error& e) {\n",
        "        std::cerr << \"error loading the model\\n\";\n",
        "        return -1;\n",
        "    }\n",
        "    std::vector<torch::jit::IValue> inputs;\n",
        "    // make sure input data are converted to channels last format\n",
        "    inputs.push_back(torch::ones({1, 3, 224, 224}).to(c10::MemoryFormat::ChannelsLast));\n",
        "\n",
        "    at::Tensor output = module.forward(inputs).toTensor();\n",
        "\n",
        "    return 0;\n",
        "}\n",
        "'''"
      ]
    },
    {
      "cell_type": "markdown",
      "metadata": {
        "id": "HcJw4HGVCBUl"
      },
      "source": [
        "**CMakeList.txt**\n",
        "\n"
      ]
    },
    {
      "cell_type": "code",
      "execution_count": null,
      "metadata": {
        "id": "mDJFmLUgCBUm"
      },
      "outputs": [],
      "source": [
        "'''\n",
        "cmake_minimum_required(VERSION 3.0 FATAL_ERROR)\n",
        "project(example-app)\n",
        "\n",
        "find_package(Torch REQUIRED)\n",
        "set(CMAKE_CXX_FLAGS \"${CMAKE_CXX_FLAGS} ${TORCH_CXX_FLAGS} -Wl,--no-as-needed\")\n",
        "\n",
        "add_executable(example-app example-app.cpp)\n",
        "# Link the binary against the C++ dynamic library file of Intel® Extension for PyTorch*\n",
        "target_link_libraries(example-app \"${TORCH_LIBRARIES}\" \"${INTEL_EXTENSION_FOR_PYTORCH_PATH}/lib/libintel-ext-pt-cpu.so\")\n",
        "\n",
        "set_property(TARGET example-app PROPERTY CXX_STANDARD 14)\n",
        "'''"
      ]
    },
    {
      "cell_type": "markdown",
      "metadata": {
        "id": "yYjV53jgCBUn"
      },
      "source": [
        "**Note:** Since Intel® Extension for PyTorch* is still under development, name of\n",
        "the c++ dynamic library in the master branch may defer to\n",
        "*libintel-ext-pt-cpu.so* shown above. Please check the name out in the\n",
        "installation folder. The so file name starts with *libintel-*.\n",
        "\n"
      ]
    },
    {
      "cell_type": "markdown",
      "metadata": {
        "id": "j8yMiccuCBUn"
      },
      "source": [
        "**Command for compilation**\n",
        "\n"
      ]
    },
    {
      "cell_type": "code",
      "execution_count": null,
      "metadata": {
        "id": "2biK1d1mCBUn"
      },
      "outputs": [],
      "source": [
        "'''\n",
        "cmake -DCMAKE_PREFIX_PATH=<LIBPYTORCH_PATH> -DINTEL_EXTENSION_FOR_PYTORCH_PATH=<INTEL_EXTENSION_FOR_PYTORCH_INSTALLATION_PATH> ..\n",
        "'''"
      ]
    },
    {
      "cell_type": "markdown",
      "metadata": {
        "id": "iAJdDwEgCBUs"
      },
      "source": [
        "Tutorials\n",
        "---------\n",
        "\n"
      ]
    },
    {
      "cell_type": "markdown",
      "metadata": {
        "id": "e-aiwyaXCBUs"
      },
      "source": [
        "Please visit `Intel® Extension for PyTorch* Github repo <https://github.com/intel/intel-extension-for-pytorch>`_ for more tutorials.\n",
        "\n"
      ]
    }
  ],
  "metadata": {
    "kernelspec": {
      "display_name": "Python 3",
      "language": "python",
      "name": "python3"
    },
    "language_info": {
      "codemirror_mode": {
        "name": "ipython",
        "version": 3
      },
      "file_extension": ".py",
      "mimetype": "text/x-python",
      "name": "python",
      "nbconvert_exporter": "python",
      "pygments_lexer": "ipython3",
      "version": "3.6.13"
    },
    "colab": {
      "provenance": [],
      "include_colab_link": true
    }
  },
  "nbformat": 4,
  "nbformat_minor": 0
}